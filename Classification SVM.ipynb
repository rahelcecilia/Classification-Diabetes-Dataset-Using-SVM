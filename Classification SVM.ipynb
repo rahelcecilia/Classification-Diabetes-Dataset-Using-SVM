{
 "cells": [
  {
   "cell_type": "code",
   "execution_count": 0,
   "metadata": {
    "application/vnd.databricks.v1+cell": {
     "cellMetadata": {
      "byteLimit": 2048000,
      "rowLimit": 10000
     },
     "inputWidgets": {},
     "nuid": "496480df-e62c-48e0-98ca-564595456ff6",
     "showTitle": false,
     "title": ""
    }
   },
   "outputs": [],
   "source": [
    "import pyspark\n",
    "from pyspark.sql import SparkSession\n",
    "from pyspark.sql.functions import col, sum\n",
    "import matplotlib.pyplot as plt\n",
    "from pyspark.ml.feature import StringIndexer\n",
    "from pyspark.ml.feature import PCA\n",
    "from pyspark.ml.feature import VectorAssembler\n",
    "from pyspark.ml.classification import LinearSVC\n",
    "from pyspark.ml.evaluation import BinaryClassificationEvaluator\n",
    "from pyspark.ml.evaluation import MulticlassClassificationEvaluator"
   ]
  },
  {
   "cell_type": "markdown",
   "metadata": {
    "application/vnd.databricks.v1+cell": {
     "cellMetadata": {
      "byteLimit": 2048000,
      "rowLimit": 10000
     },
     "inputWidgets": {},
     "nuid": "d9e78c3f-e76d-4040-9be4-318360ef67b2",
     "showTitle": false,
     "title": ""
    }
   },
   "source": [
    "### Business and Data Understanding\n",
    "\n",
    "The Diabetes prediction dataset is a collection of medical and demographic data from patients, along with their diabetes status (positive or negative). The data includes features such as age, gender, body mass index (BMI), hypertension, heart disease, smoking history, HbA1c level, and blood glucose level. This dataset can be used to build machine learning models to predict diabetes in patients based on their medical history and demographic information. This can be useful for healthcare professionals in identifying patients who may be at risk of developing diabetes and in developing personalized treatment plans. Additionally, the dataset can be used by researchers to explore the relationships between various medical and demographic factors and the likelihood of developing diabetes.\n",
    "\n",
    "Explanation about the features :\n",
    "\n",
    "- Gender - Gender refers to the biological sex of the individual, which can have an impact on their susceptibility to diabetes. There are three categories in it male ,female and other.\n",
    "- Age - Age is an important factor as diabetes is more commonly diagnosed in older adults.Age ranges from 0-80 in our dataset.\n",
    "- Hypertension - Hypertension is a medical condition in which the blood pressure in the arteries is persistently elevated. It has values a 0 or 1 where 0 indicates they don’t have hypertension and for 1 it means they have hypertension.\n",
    "- Heart_Disease - Heart disease is another medical condition that is associated with an increased risk of developing diabetes. It has values a 0 or 1 where 0 indicates they don’t have heart disease and for 1 it means they have heart disease.\n",
    "- Smoking_History - Smoking history is also considered a risk factor for diabetes and can exacerbate the complications associated with diabetes.In our dataset we have 5 categories i.e not current,former,No Info,current,never and ever.\n",
    "- BMI - BMI (Body Mass Index) is a measure of body fat based on weight and height. Higher BMI values are linked to a higher risk of diabetes. The range of BMI in the dataset is from 10.16 to 71.55. BMI less than 18.5 is underweight, 18.5-24.9 is normal, 25-29.9 is overweight, and 30 or more is obese.\n",
    "- HbA1c_level - HbA1c (Hemoglobin A1c) level is a measure of a person's average blood sugar level over the past 2-3 months. Higher levels indicate a greater risk of developing diabetes. Mostly more than 6.5% of HbA1c Level indicates diabetes.\n",
    "- Blood_Glucose_Level - Blood glucose level refers to the amount of glucose in the bloodstream at a given time. High blood glucose levels are a key indicator of diabetes.\n",
    "- Diabetes - Diabetes is the target variable being predicted, with values of 1 indicating the presence of diabetes and 0 indicating the absence of diabetes.\n",
    "\n",
    "##### Target Column : Diabetes"
   ]
  },
  {
   "cell_type": "code",
   "execution_count": 0,
   "metadata": {
    "application/vnd.databricks.v1+cell": {
     "cellMetadata": {
      "byteLimit": 2048000,
      "rowLimit": 10000
     },
     "inputWidgets": {},
     "nuid": "e0e26bfa-9bea-4725-adc1-ae81bf565c18",
     "showTitle": false,
     "title": ""
    }
   },
   "outputs": [],
   "source": [
    "#Load Data\n",
    "dataset = spark.read.format(\"csv\").option(\"header\", \"true\").load(\"dbfs:/FileStore/shared_uploads/rahelcecilia9@gmail.com/diabetes_prediction_dataset.csv\")"
   ]
  },
  {
   "cell_type": "code",
   "execution_count": 0,
   "metadata": {
    "application/vnd.databricks.v1+cell": {
     "cellMetadata": {
      "byteLimit": 2048000,
      "rowLimit": 10000
     },
     "inputWidgets": {},
     "nuid": "16014a00-49e2-48be-9aec-106c38c47d4b",
     "showTitle": false,
     "title": ""
    }
   },
   "outputs": [
    {
     "output_type": "stream",
     "name": "stdout",
     "output_type": "stream",
     "text": [
      "+------+----+------------+-------------+---------------+-----+-----------+-------------------+--------+\n|gender| age|hypertension|heart_disease|smoking_history|  bmi|HbA1c_level|blood_glucose_level|diabetes|\n+------+----+------------+-------------+---------------+-----+-----------+-------------------+--------+\n|Female|80.0|           0|            1|          never|25.19|        6.6|                140|       0|\n|Female|54.0|           0|            0|        No Info|27.32|        6.6|                 80|       0|\n|  Male|28.0|           0|            0|          never|27.32|        5.7|                158|       0|\n|Female|36.0|           0|            0|        current|23.45|        5.0|                155|       0|\n|  Male|76.0|           1|            1|        current|20.14|        4.8|                155|       0|\n+------+----+------------+-------------+---------------+-----+-----------+-------------------+--------+\nonly showing top 5 rows\n\n"
     ]
    }
   ],
   "source": [
    "dataset.show(5)"
   ]
  },
  {
   "cell_type": "code",
   "execution_count": 0,
   "metadata": {
    "application/vnd.databricks.v1+cell": {
     "cellMetadata": {
      "byteLimit": 2048000,
      "rowLimit": 10000
     },
     "inputWidgets": {},
     "nuid": "61421aee-f18e-4de3-8e21-066e349d2913",
     "showTitle": false,
     "title": ""
    }
   },
   "outputs": [
    {
     "output_type": "stream",
     "name": "stdout",
     "output_type": "stream",
     "text": [
      "root\n |-- gender: string (nullable = true)\n |-- age: string (nullable = true)\n |-- hypertension: string (nullable = true)\n |-- heart_disease: string (nullable = true)\n |-- smoking_history: string (nullable = true)\n |-- bmi: string (nullable = true)\n |-- HbA1c_level: string (nullable = true)\n |-- blood_glucose_level: string (nullable = true)\n |-- diabetes: string (nullable = true)\n\n"
     ]
    }
   ],
   "source": [
    "dataset.printSchema()"
   ]
  },
  {
   "cell_type": "code",
   "execution_count": 0,
   "metadata": {
    "application/vnd.databricks.v1+cell": {
     "cellMetadata": {
      "byteLimit": 2048000,
      "rowLimit": 10000
     },
     "inputWidgets": {},
     "nuid": "4294f736-9a1d-4cc1-b700-a6d83e6357d7",
     "showTitle": false,
     "title": ""
    }
   },
   "outputs": [
    {
     "output_type": "stream",
     "name": "stdout",
     "output_type": "stream",
     "text": [
      "root\n |-- gender: string (nullable = true)\n |-- age: integer (nullable = true)\n |-- hypertension: integer (nullable = true)\n |-- heart_disease: integer (nullable = true)\n |-- smoking_history: string (nullable = true)\n |-- bmi: integer (nullable = true)\n |-- HbA1c_level: integer (nullable = true)\n |-- blood_glucose_level: integer (nullable = true)\n |-- diabetes: integer (nullable = true)\n\n"
     ]
    }
   ],
   "source": [
    "\n",
    "#Change the string data type to int\n",
    "column_int = [\"age\", \"hypertension\", \"heart_disease\", \"bmi\", \"HbA1c_level\", \"blood_glucose_level\", \"diabetes\"]\n",
    "\n",
    "for col_name in column_int:\n",
    "    dataset = dataset.withColumn(col_name, col(col_name).cast(\"int\"))\n",
    "    \n",
    "dataset.printSchema()\n"
   ]
  },
  {
   "cell_type": "code",
   "execution_count": 0,
   "metadata": {
    "application/vnd.databricks.v1+cell": {
     "cellMetadata": {
      "byteLimit": 2048000,
      "rowLimit": 10000
     },
     "inputWidgets": {},
     "nuid": "e9fd8da4-53cc-4905-af03-498422d4b828",
     "showTitle": false,
     "title": ""
    }
   },
   "outputs": [
    {
     "output_type": "stream",
     "name": "stdout",
     "output_type": "stream",
     "text": [
      "(100000, 9)\n"
     ]
    }
   ],
   "source": [
    "#Information about the dataset\n",
    "row_count = dataset.count()\n",
    "col_count = len(dataset.columns)\n",
    "\n",
    "shape = (row_count, col_count)\n",
    "print(shape)\n"
   ]
  },
  {
   "cell_type": "markdown",
   "metadata": {
    "application/vnd.databricks.v1+cell": {
     "cellMetadata": {},
     "inputWidgets": {},
     "nuid": "8643a6e5-caef-421d-9db8-b3c92deef086",
     "showTitle": false,
     "title": ""
    }
   },
   "source": [
    "### Data Cleansing"
   ]
  },
  {
   "cell_type": "code",
   "execution_count": 0,
   "metadata": {
    "application/vnd.databricks.v1+cell": {
     "cellMetadata": {
      "byteLimit": 2048000,
      "rowLimit": 10000
     },
     "inputWidgets": {},
     "nuid": "e4be7f0a-a889-4dd3-a3e4-f13d2c746fe6",
     "showTitle": false,
     "title": ""
    }
   },
   "outputs": [],
   "source": [
    "#Converting categorical into numerical values\n",
    "\n",
    "categorical_columns = [\"gender\",  \"smoking_history\"]\n",
    "\n",
    "# Perform indexation for each column separately\n",
    "for col in categorical_columns:\n",
    "     # Create a StringIndexer for each column\n",
    "     indexer = StringIndexer(inputCol=col, outputCol=col + \"_index\")\n",
    "    \n",
    "     # Perform indexation on the DataFrame using the appropriate StringIndexer\n",
    "     dataset = indexer.fit(dataset).transform(dataset)"
   ]
  },
  {
   "cell_type": "code",
   "execution_count": 0,
   "metadata": {
    "application/vnd.databricks.v1+cell": {
     "cellMetadata": {
      "byteLimit": 2048000,
      "rowLimit": 10000
     },
     "inputWidgets": {},
     "nuid": "41e85eb7-9a5e-4c3e-9792-9eec891ab68e",
     "showTitle": false,
     "title": ""
    }
   },
   "outputs": [
    {
     "output_type": "stream",
     "name": "stdout",
     "output_type": "stream",
     "text": [
      "+------+---+------------+-------------+---------------+---+-----------+-------------------+--------+------------+---------------------+\n|gender|age|hypertension|heart_disease|smoking_history|bmi|HbA1c_level|blood_glucose_level|diabetes|gender_index|smoking_history_index|\n+------+---+------------+-------------+---------------+---+-----------+-------------------+--------+------------+---------------------+\n|Female| 80|           0|            1|          never| 25|          6|                140|       0|         0.0|                  1.0|\n|Female| 54|           0|            0|        No Info| 27|          6|                 80|       0|         0.0|                  0.0|\n|  Male| 28|           0|            0|          never| 27|          5|                158|       0|         1.0|                  1.0|\n|Female| 36|           0|            0|        current| 23|          5|                155|       0|         0.0|                  3.0|\n|  Male| 76|           1|            1|        current| 20|          4|                155|       0|         1.0|                  3.0|\n+------+---+------------+-------------+---------------+---+-----------+-------------------+--------+------------+---------------------+\nonly showing top 5 rows\n\n"
     ]
    }
   ],
   "source": [
    "dataset.show(5)"
   ]
  },
  {
   "cell_type": "code",
   "execution_count": 0,
   "metadata": {
    "application/vnd.databricks.v1+cell": {
     "cellMetadata": {
      "byteLimit": 2048000,
      "rowLimit": 10000
     },
     "inputWidgets": {},
     "nuid": "cf316d1b-daf4-4792-b559-607d366e531d",
     "showTitle": false,
     "title": ""
    }
   },
   "outputs": [
    {
     "output_type": "stream",
     "name": "stdout",
     "output_type": "stream",
     "text": [
      "+---+------------+-------------+---+-----------+-------------------+--------+------------+---------------------+\n|age|hypertension|heart_disease|bmi|HbA1c_level|blood_glucose_level|diabetes|gender_index|smoking_history_index|\n+---+------------+-------------+---+-----------+-------------------+--------+------------+---------------------+\n| 80|           0|            1| 25|          6|                140|       0|         0.0|                  1.0|\n| 54|           0|            0| 27|          6|                 80|       0|         0.0|                  0.0|\n| 28|           0|            0| 27|          5|                158|       0|         1.0|                  1.0|\n| 36|           0|            0| 23|          5|                155|       0|         0.0|                  3.0|\n| 76|           1|            1| 20|          4|                155|       0|         1.0|                  3.0|\n+---+------------+-------------+---+-----------+-------------------+--------+------------+---------------------+\nonly showing top 5 rows\n\n"
     ]
    }
   ],
   "source": [
    "#We didn't need the old data set, so I decided to delete the column and I used a column name ending in _index which means it has been converted to numerical values\n",
    "delete = [\"gender\",\"smoking_history\"]\n",
    "\n",
    "clean_dataset = dataset.drop(*delete)\n",
    "clean_dataset.show(5)"
   ]
  },
  {
   "cell_type": "code",
   "execution_count": 0,
   "metadata": {
    "application/vnd.databricks.v1+cell": {
     "cellMetadata": {
      "byteLimit": 2048000,
      "rowLimit": 10000
     },
     "inputWidgets": {},
     "nuid": "cf88c425-c3f5-4c28-91f9-cd8a990f141d",
     "showTitle": false,
     "title": ""
    }
   },
   "outputs": [
    {
     "output_type": "stream",
     "name": "stdout",
     "output_type": "stream",
     "text": [
      "+---+------------+-------------+---+-----------+-------------------+--------+------------+---------------------+\n|age|hypertension|heart_disease|bmi|HbA1c_level|blood_glucose_level|diabetes|gender_index|smoking_history_index|\n+---+------------+-------------+---+-----------+-------------------+--------+------------+---------------------+\n|  0|           0|            0|  0|          0|                  0|       0|           0|                    0|\n+---+------------+-------------+---+-----------+-------------------+--------+------------+---------------------+\n\n"
     ]
    }
   ],
   "source": [
    "from pyspark.sql.functions import col, sum\n",
    "\n",
    "#Missing Values\n",
    "missing_count = clean_dataset.select([sum(col(c).isNull().cast(\"int\")).alias(c) for c in clean_dataset.columns])\n",
    "missing_count.show()"
   ]
  },
  {
   "cell_type": "markdown",
   "metadata": {
    "application/vnd.databricks.v1+cell": {
     "cellMetadata": {},
     "inputWidgets": {},
     "nuid": "382e1d8d-b373-438b-a857-f618dec4fa36",
     "showTitle": false,
     "title": ""
    }
   },
   "source": [
    "### ML Model Engineering\n"
   ]
  },
  {
   "cell_type": "code",
   "execution_count": 0,
   "metadata": {
    "application/vnd.databricks.v1+cell": {
     "cellMetadata": {
      "byteLimit": 2048000,
      "rowLimit": 10000
     },
     "inputWidgets": {},
     "nuid": "6436bb75-7f20-4cff-bc75-cbf4b4c65840",
     "showTitle": false,
     "title": ""
    }
   },
   "outputs": [],
   "source": [
    "#Split dataset\n",
    "\n",
    " #data_train will have about 80% of the data, and data_test will have about 20% of the data. The seed value (seed=123) is used to ensure consistent sharing.\n",
    "data_train = clean_dataset.sample(False, 0.8, seed=123)\n",
    "data_test = clean_dataset.subtract(data_train)"
   ]
  },
  {
   "cell_type": "code",
   "execution_count": 0,
   "metadata": {
    "application/vnd.databricks.v1+cell": {
     "cellMetadata": {
      "byteLimit": 2048000,
      "rowLimit": 10000
     },
     "inputWidgets": {},
     "nuid": "9f7c0aa6-51f4-4e93-976f-a157b8e6b204",
     "showTitle": false,
     "title": ""
    }
   },
   "outputs": [
    {
     "output_type": "stream",
     "name": "stdout",
     "output_type": "stream",
     "text": [
      "+---+------------+-------------+---+-----------+-------------------+--------+------------+---------------------+\n|age|hypertension|heart_disease|bmi|HbA1c_level|blood_glucose_level|diabetes|gender_index|smoking_history_index|\n+---+------------+-------------+---+-----------+-------------------+--------+------------+---------------------+\n| 80|           0|            1| 25|          6|                140|       0|         0.0|                  1.0|\n| 54|           0|            0| 27|          6|                 80|       0|         0.0|                  0.0|\n| 36|           0|            0| 23|          5|                155|       0|         0.0|                  3.0|\n| 76|           1|            1| 20|          4|                155|       0|         1.0|                  3.0|\n| 20|           0|            0| 27|          6|                 85|       0|         0.0|                  1.0|\n| 79|           0|            0| 23|          5|                 85|       0|         0.0|                  0.0|\n| 42|           0|            0| 33|          4|                145|       0|         1.0|                  1.0|\n| 32|           0|            0| 27|          5|                100|       0|         0.0|                  1.0|\n| 53|           0|            0| 27|          6|                 85|       0|         0.0|                  1.0|\n| 54|           0|            0| 54|          6|                100|       0|         0.0|                  2.0|\n+---+------------+-------------+---+-----------+-------------------+--------+------------+---------------------+\nonly showing top 10 rows\n\n(80036, 9)\n"
     ]
    }
   ],
   "source": [
    "#Information about data_train\n",
    "\n",
    "row_count = data_train.count()\n",
    "col_count = len(data_test.columns)\n",
    "\n",
    "shape = (row_count, col_count)\n",
    "\n",
    "data_train.show(10)\n",
    "print(shape)"
   ]
  },
  {
   "cell_type": "code",
   "execution_count": 0,
   "metadata": {
    "application/vnd.databricks.v1+cell": {
     "cellMetadata": {
      "byteLimit": 2048000,
      "rowLimit": 10000
     },
     "inputWidgets": {},
     "nuid": "37796c14-9254-40dc-82ec-d77951d06ed5",
     "showTitle": false,
     "title": ""
    }
   },
   "outputs": [
    {
     "output_type": "stream",
     "name": "stdout",
     "output_type": "stream",
     "text": [
      "+---+------------+-------------+---+-----------+-------------------+--------+------------+---------------------+\n|age|hypertension|heart_disease|bmi|HbA1c_level|blood_glucose_level|diabetes|gender_index|smoking_history_index|\n+---+------------+-------------+---+-----------+-------------------+--------+------------+---------------------+\n| 53|           0|            0| 31|          4|                200|       0|         0.0|                  0.0|\n| 78|           0|            0| 36|          5|                130|       0|         0.0|                  2.0|\n| 67|           0|            0| 25|          5|                200|       0|         0.0|                  1.0|\n| 76|           0|            0| 23|          5|                 85|       0|         0.0|                  1.0|\n| 50|           1|            0| 27|          5|                260|       1|         1.0|                  3.0|\n| 72|           0|            1| 27|          6|                130|       0|         0.0|                  2.0|\n| 28|           0|            0| 27|          5|                158|       0|         1.0|                  1.0|\n| 60|           0|            0| 18|          4|                159|       0|         0.0|                  1.0|\n| 44|           0|            0| 19|          6|                200|       1|         0.0|                  1.0|\n| 20|           0|            0| 22|          3|                100|       0|         0.0|                  1.0|\n+---+------------+-------------+---+-----------+-------------------+--------+------------+---------------------+\nonly showing top 10 rows\n\n(14355, 9)\n"
     ]
    }
   ],
   "source": [
    "#Information about data_test\n",
    "row_count = data_test.count()\n",
    "col_count = len(data_test.columns)\n",
    "\n",
    "shape = (row_count, col_count)\n",
    "data_test.show(10)\n",
    "print(shape)"
   ]
  },
  {
   "cell_type": "code",
   "execution_count": 0,
   "metadata": {
    "application/vnd.databricks.v1+cell": {
     "cellMetadata": {
      "byteLimit": 2048000,
      "rowLimit": 10000
     },
     "inputWidgets": {},
     "nuid": "e9a0aef4-825b-4072-b6d3-919dd826e3ab",
     "showTitle": false,
     "title": ""
    }
   },
   "outputs": [
    {
     "output_type": "stream",
     "name": "stdout",
     "output_type": "stream",
     "text": [
      "+---+------------+-------------+---+-----------+-------------------+------------+---------------------+\n|age|hypertension|heart_disease|bmi|HbA1c_level|blood_glucose_level|gender_index|smoking_history_index|\n+---+------------+-------------+---+-----------+-------------------+------------+---------------------+\n| 53|           0|            0| 31|          4|                200|         0.0|                  0.0|\n| 78|           0|            0| 36|          5|                130|         0.0|                  2.0|\n| 67|           0|            0| 25|          5|                200|         0.0|                  1.0|\n| 72|           0|            1| 27|          6|                130|         0.0|                  2.0|\n| 28|           0|            0| 27|          5|                158|         1.0|                  1.0|\n+---+------------+-------------+---+-----------+-------------------+------------+---------------------+\nonly showing top 5 rows\n\n"
     ]
    }
   ],
   "source": [
    "#because the purpose of the test data is to test the model, the target column (diabetes) must be deleted.\n",
    "delete = [\n",
    "    \"diabetes\"\n",
    "]\n",
    "\n",
    "data_test_fix = data_test.drop(*delete)\n",
    "data_test_fix.show(5)"
   ]
  },
  {
   "cell_type": "code",
   "execution_count": 0,
   "metadata": {
    "application/vnd.databricks.v1+cell": {
     "cellMetadata": {
      "byteLimit": 2048000,
      "rowLimit": 10000
     },
     "inputWidgets": {},
     "nuid": "960a75b0-c11b-4e62-9b44-ddff16e49bfb",
     "showTitle": false,
     "title": ""
    }
   },
   "outputs": [],
   "source": [
    "feature_columns = [\"age\", \"hypertension\", \"heart_disease\",\"bmi\",\"HbA1c_level\",\"blood_glucose_level\", \"gender_index\", \"smoking_history_index\"]\n",
    "\n",
    "assembler = VectorAssembler(inputCols=feature_columns, outputCol=\"features\")\n",
    "data_train = assembler.transform(data_train)\n",
    "\n",
    "assembler_test = VectorAssembler(inputCols=feature_columns, outputCol=\"features\")\n",
    "data_test_fix = assembler_test.transform(data_test_fix)\n"
   ]
  },
  {
   "cell_type": "code",
   "execution_count": 0,
   "metadata": {
    "application/vnd.databricks.v1+cell": {
     "cellMetadata": {
      "byteLimit": 2048000,
      "rowLimit": 10000
     },
     "inputWidgets": {},
     "nuid": "d059fdc9-8f5b-4470-baae-3430f1d51e81",
     "showTitle": false,
     "title": ""
    }
   },
   "outputs": [],
   "source": [
    "# Initialize SVM model\n",
    "\n",
    "svm = LinearSVC(labelCol=\"diabetes\", featuresCol=\"features\")\n",
    "\n",
    "# Train SVM model\n",
    "svm_model = svm.fit(data_train)"
   ]
  },
  {
   "cell_type": "code",
   "execution_count": 0,
   "metadata": {
    "application/vnd.databricks.v1+cell": {
     "cellMetadata": {
      "byteLimit": 2048000,
      "rowLimit": 10000
     },
     "inputWidgets": {},
     "nuid": "5dcc5ebd-32cb-4258-bf1f-10a32387b295",
     "showTitle": false,
     "title": ""
    }
   },
   "outputs": [
    {
     "output_type": "stream",
     "name": "stdout",
     "output_type": "stream",
     "text": [
      "+---+------------+-------------+---+-----------+-------------------+------------+---------------------+--------------------+--------------------+----------+\n|age|hypertension|heart_disease|bmi|HbA1c_level|blood_glucose_level|gender_index|smoking_history_index|            features|       rawPrediction|prediction|\n+---+------------+-------------+---+-----------+-------------------+------------+---------------------+--------------------+--------------------+----------+\n| 46|           0|            0| 21|          6|                158|         0.0|                  2.0|[46.0,0.0,0.0,21....|[1.59465533288541...|       0.0|\n| 38|           0|            0| 26|          6|                155|         1.0|                  3.0|[38.0,0.0,0.0,26....|[1.44317507340094...|       0.0|\n| 57|           0|            0| 22|          6|                 85|         0.0|                  3.0|[57.0,0.0,0.0,22....|[2.62903430788985...|       0.0|\n| 62|           0|            0| 40|          3|                200|         0.0|                  1.0|[62.0,0.0,0.0,40....|[3.32203213527486...|       0.0|\n| 56|           0|            0| 28|          5|                130|         0.0|                  0.0|(8,[0,3,4,5],[56....|[2.89113933211857...|       0.0|\n| 44|           1|            0| 27|          4|                 85|         0.0|                  0.0|[44.0,1.0,0.0,27....|[4.71154306974754...|       0.0|\n| 25|           0|            0| 52|          4|                140|         0.0|                  1.0|[25.0,0.0,0.0,52....|[3.42996852246032...|       0.0|\n| 53|           0|            0| 27|          7|                220|         1.0|                  1.0|[53.0,0.0,0.0,27....|[-1.0152938001915...|       1.0|\n| 46|           0|            0| 23|          4|                 85|         0.0|                  0.0|(8,[0,3,4,5],[46....|[5.14908418837177...|       0.0|\n| 67|           0|            0| 28|          5|                126|         0.0|                  0.0|(8,[0,3,4,5],[67....|[2.78484900940976...|       0.0|\n+---+------------+-------------+---+-----------+-------------------+------------+---------------------+--------------------+--------------------+----------+\nonly showing top 10 rows\n\n"
     ]
    }
   ],
   "source": [
    "# Prediction using test data\n",
    "predictions = svm_model.transform(data_test_fix)\n",
    "predictions.show(10)"
   ]
  },
  {
   "cell_type": "code",
   "execution_count": 0,
   "metadata": {
    "application/vnd.databricks.v1+cell": {
     "cellMetadata": {
      "byteLimit": 2048000,
      "rowLimit": 10000
     },
     "inputWidgets": {},
     "nuid": "e07b59df-b4b7-4f2e-8c76-82c91da9166b",
     "showTitle": false,
     "title": ""
    }
   },
   "outputs": [
    {
     "output_type": "stream",
     "name": "stdout",
     "output_type": "stream",
     "text": [
      "+----------+-----+\n|prediction|count|\n+----------+-----+\n|       0.0|13369|\n|       1.0|  986|\n+----------+-----+\n\n"
     ]
    }
   ],
   "source": [
    "from pyspark.sql.functions import count\n",
    "\n",
    "#To calculate how much the result is from the predicted value\n",
    "unique = predictions.groupBy('prediction').agg(count('*').alias('count'))\n",
    "\n",
    "unique.show()"
   ]
  },
  {
   "cell_type": "markdown",
   "metadata": {
    "application/vnd.databricks.v1+cell": {
     "cellMetadata": {},
     "inputWidgets": {},
     "nuid": "7942606c-b743-4c0d-8f14-ad0e13acd510",
     "showTitle": false,
     "title": ""
    }
   },
   "source": [
    "### ML Model Evaluation"
   ]
  },
  {
   "cell_type": "code",
   "execution_count": 0,
   "metadata": {
    "application/vnd.databricks.v1+cell": {
     "cellMetadata": {
      "byteLimit": 2048000,
      "rowLimit": 10000
     },
     "inputWidgets": {},
     "nuid": "a7e534ce-6ed2-4fc2-ad51-3e5277b5bc51",
     "showTitle": false,
     "title": ""
    }
   },
   "outputs": [
    {
     "output_type": "stream",
     "name": "stdout",
     "output_type": "stream",
     "text": [
      "Accuracy: 1.0\n"
     ]
    }
   ],
   "source": [
    "\n",
    "evaluator = MulticlassClassificationEvaluator(labelCol=\"prediction\", predictionCol=\"prediction\", metricName=\"accuracy\")\n",
    "\n",
    "accuracy = evaluator.evaluate(predictions)\n",
    "print(f\"Accuracy: {accuracy}\")\n",
    "\n",
    "#if accuracy = 1.0, so model is making a correct predictions"
   ]
  },
  {
   "cell_type": "code",
   "execution_count": 0,
   "metadata": {
    "application/vnd.databricks.v1+cell": {
     "cellMetadata": {
      "byteLimit": 2048000,
      "rowLimit": 10000
     },
     "inputWidgets": {},
     "nuid": "e65e1753-a8b3-4caa-ba1f-43413b6ee836",
     "showTitle": false,
     "title": ""
    }
   },
   "outputs": [
    {
     "output_type": "stream",
     "name": "stdout",
     "output_type": "stream",
     "text": [
      "Precision: 1.00\nRecall: 1.00\nArea under ROC = 1.00\n"
     ]
    }
   ],
   "source": [
    "# precision\n",
    "precision = evaluator.evaluate(predictions, {evaluator.metricName: \"weightedPrecision\"})\n",
    "print(\"Precision: {:.2f}\".format(precision))\n",
    "\n",
    "# recall\n",
    "recall = evaluator.evaluate(predictions, {evaluator.metricName: \"weightedRecall\"})\n",
    "print(\"Recall: {:.2f}\".format(recall))\n",
    "\n",
    "# ROC (AUC)\n",
    "auc = evaluator.evaluate(predictions)\n",
    "print(\"Area under ROC = {:.2f}\".format(auc))"
   ]
  }
 ],
 "metadata": {
  "application/vnd.databricks.v1+notebook": {
   "dashboards": [],
   "language": "python",
   "notebookMetadata": {
    "pythonIndentUnit": 4
   },
   "notebookName": "Classification SVM",
   "widgets": {}
  }
 },
 "nbformat": 4,
 "nbformat_minor": 0
}
